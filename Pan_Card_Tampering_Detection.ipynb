{
  "nbformat": 4,
  "nbformat_minor": 0,
  "metadata": {
    "colab": {
      "name": "Pan Card Tampering Detection",
      "private_outputs": true,
      "provenance": [],
      "collapsed_sections": []
    },
    "kernelspec": {
      "name": "python3",
      "display_name": "Python 3"
    },
    "language_info": {
      "name": "python"
    },
    "accelerator": "GPU",
    "gpuClass": "standard"
  },
  "cells": [
    {
      "cell_type": "markdown",
      "source": [
        "# PAN Card Tampering Detection"
      ],
      "metadata": {
        "id": "7wVD-IwngO6O"
      }
    },
    {
      "cell_type": "markdown",
      "source": [
        "*The purpose of this project is to detect tampering of PAN card using computer vision. This project will help different organization in detecting whether the Id i.e. the PAN card provided to them by thier employees or customers or anyone is original or not.*"
      ],
      "metadata": {
        "id": "wDQYQCmajHpX"
      }
    },
    {
      "cell_type": "code",
      "source": [
        "from skimage.metrics import structural_similarity   # help to find the structural similarities between original image and fake image\n",
        "import imutils       \n",
        "import cv2                # Computer vision \n",
        "from PIL import Image\n",
        "import requests            # Use to fetch the URL from the websites"
      ],
      "metadata": {
        "id": "2eYU5sVCggLY"
      },
      "execution_count": null,
      "outputs": []
    },
    {
      "cell_type": "code",
      "source": [
        "!mkdir pan_card_tampering\n",
        "!mkdir pan_card_tampering/image  # It will create the folder"
      ],
      "metadata": {
        "id": "DJQA2XZ6gtJN"
      },
      "execution_count": null,
      "outputs": []
    },
    {
      "cell_type": "code",
      "source": [
        "# Open image and display\n",
        "original = Image.open(requests.get('https://www.thestatesman.com/wp-content/uploads/2019/07/pan-card.jpg', stream=True).raw)\n",
        "tampered = Image.open(requests.get('https://assets1.cleartax-cdn.com/s/img/20170526124335/Pan4.png', stream=True).raw) "
      ],
      "metadata": {
        "id": "CarGkdgUhrk8"
      },
      "execution_count": null,
      "outputs": []
    },
    {
      "cell_type": "code",
      "source": [
        "# The file format of the source file.\n",
        "print(\"Original image format : \",original.format) \n",
        "print(\"Tampered image format : \",tampered.format)\n",
        "\n",
        "# Image size, in pixels. The size is given as a 2-tuple (width, height).\n",
        "print(\"Original image size : \",original.size) \n",
        "print(\"Tampered image size : \",tampered.size) "
      ],
      "metadata": {
        "id": "v-ll37B4hroB"
      },
      "execution_count": null,
      "outputs": []
    },
    {
      "cell_type": "code",
      "source": [
        "# Resize Image\n",
        "original = original.resize((250, 160))\n",
        "print(original.size)\n",
        "original.save('pan_card_tampering/image/original.png')#Save image\n",
        "tampered = tampered.resize((250,160))\n",
        "print(tampered.size)\n",
        "tampered.save('pan_card_tampering/image/tampered.png')#Saves image\n"
      ],
      "metadata": {
        "id": "LUYlp2Xfiy5g"
      },
      "execution_count": null,
      "outputs": []
    },
    {
      "cell_type": "code",
      "source": [
        "# Change image type if required from png to jpg\n",
        "tampered = Image.open('pan_card_tampering/image/tampered.png')\n",
        "tampered.save('pan_card_tampering/image/tampered.png')#can do png to jpg"
      ],
      "metadata": {
        "id": "znWXN3ctiy7A"
      },
      "execution_count": null,
      "outputs": []
    },
    {
      "cell_type": "code",
      "source": [
        "# Display original image\n",
        "original"
      ],
      "metadata": {
        "id": "jHMI7yw4iy-P"
      },
      "execution_count": null,
      "outputs": []
    },
    {
      "cell_type": "code",
      "source": [
        "# Display user given image\n",
        "tampered"
      ],
      "metadata": {
        "id": "wExkMv5WizE-"
      },
      "execution_count": null,
      "outputs": []
    },
    {
      "cell_type": "code",
      "source": [
        "# load the two input images\n",
        "original = cv2.imread('pan_card_tampering/image/original.png')\n",
        "tampered = cv2.imread('pan_card_tampering/image/tampered.png')"
      ],
      "metadata": {
        "id": "RGsvJp-PizHl"
      },
      "execution_count": null,
      "outputs": []
    },
    {
      "cell_type": "code",
      "source": [
        "# Convert the images to grayscale\n",
        "original_gray = cv2.cvtColor(original, cv2.COLOR_BGR2GRAY)\n",
        "tampered_gray = cv2.cvtColor(tampered, cv2.COLOR_BGR2GRAY)"
      ],
      "metadata": {
        "id": "iZzuOP-sizJC"
      },
      "execution_count": null,
      "outputs": []
    },
    {
      "cell_type": "markdown",
      "source": [
        "##### Converting images into grayscale using opencv. Because in image processing many applications doesn't help us in identifying the important, edges of the coloured images also coloured images are bit complex to understand by machine beacuse they have 3 channel while grayscale has only 1 channel.  "
      ],
      "metadata": {
        "id": "biklL3sIjjBJ"
      }
    },
    {
      "cell_type": "code",
      "source": [
        "# Compute the Structural Similarity Index (SSIM) between the two images, ensuring that the difference image is returned\n",
        "(score, diff) = structural_similarity(original_gray, tampered_gray, full=True)\n",
        "diff = (diff * 255).astype(\"uint8\")\n",
        "print(\"SSIM: {}\".format(score))"
      ],
      "metadata": {
        "id": "dclQFttZizLF"
      },
      "execution_count": null,
      "outputs": []
    },
    {
      "cell_type": "markdown",
      "source": [
        "##### Structural similarity index helps us to determine exactly where in terms of x,y coordinates location, the image differences are. Here, we are trying to find similarities between the original and tampered image. The lower the SSIM score lower is the similarity."
      ],
      "metadata": {
        "id": "FDpkS54ojgz9"
      }
    },
    {
      "cell_type": "code",
      "source": [
        "# Calculating threshold and contours \n",
        "thresh = cv2.threshold(diff, 0, 255, cv2.THRESH_BINARY_INV | cv2.THRESH_OTSU)[1]\n",
        "cnts = cv2.findContours(thresh.copy(), cv2.RETR_EXTERNAL, cv2.CHAIN_APPROX_SIMPLE)\n",
        "cnts = imutils.grab_contours(cnts)"
      ],
      "metadata": {
        "id": "cr4r9uPDizMm"
      },
      "execution_count": null,
      "outputs": []
    },
    {
      "cell_type": "markdown",
      "source": [
        "##### Here we are using the threshold function of computer vision which applies an adaptive threshold to the image which is stored in the form array. This function transforms the grayscale image into a binary image using a mathematical formula.\n",
        "##### Find contours works on binary image and retrive the contours. This contours are a useful tool for shape analysis and recoginition. Grab contours grabs the appropriate value of the contours."
      ],
      "metadata": {
        "id": "VkBh5I6hj8vh"
      }
    },
    {
      "cell_type": "code",
      "source": [
        "# loop over the contours\n",
        "for c in cnts:\n",
        "    # applying contours on image\n",
        "    (x, y, w, h) = cv2.boundingRect(c)\n",
        "    cv2.rectangle(original, (x, y), (x + w, y + h), (0, 0, 255), 2)\n",
        "    cv2.rectangle(tampered, (x, y), (x + w, y + h), (0, 0, 255), 2)"
      ],
      "metadata": {
        "id": "bPcfd9TPizO3"
      },
      "execution_count": null,
      "outputs": []
    },
    {
      "cell_type": "markdown",
      "source": [
        "##### Bounding rectangle helps in finding the ratio of width to height of bounding rectangle of the object. We compute the bounding box of the contour and then draw the bounding box on both input images to represent where the two images are different or not."
      ],
      "metadata": {
        "id": "YT-mxArOkDHU"
      }
    },
    {
      "cell_type": "code",
      "source": [
        "#Diplay original image with contour\n",
        "print('Original Format Image')\n",
        "Image.fromarray(original)"
      ],
      "metadata": {
        "id": "CA3N354lizQF"
      },
      "execution_count": null,
      "outputs": []
    },
    {
      "cell_type": "code",
      "source": [
        "#Diplay tampered image with contour\n",
        "print('Tampered Image')\n",
        "Image.fromarray(tampered)"
      ],
      "metadata": {
        "id": "3VDc29aXizSS"
      },
      "execution_count": null,
      "outputs": []
    },
    {
      "cell_type": "code",
      "source": [
        "#Diplay difference image with black\n",
        "print('Different Image')\n",
        "Image.fromarray(diff)"
      ],
      "metadata": {
        "id": "vHbjh38EizTb"
      },
      "execution_count": null,
      "outputs": []
    },
    {
      "cell_type": "code",
      "source": [
        "#Display threshold image with white\n",
        "print('Threshold Image')\n",
        "Image.fromarray(thresh)"
      ],
      "metadata": {
        "id": "ElVMYuMZizWX"
      },
      "execution_count": null,
      "outputs": []
    },
    {
      "cell_type": "markdown",
      "source": [
        "# Summary\n",
        "Finding out structural similarity of the images helped us in finding the difference or similarity in the shape of the images. Similarly, finding out the threshold and contours based on those threshold for the images converted into grayscale binary also helped us in shape analysis and recognition.\n",
        "As, our SSIM is ~31.2% we can say that the image user provided is fake or tampered.\n",
        "Finally we visualized the differences and similarities between the images using by displaying the images with contours, difference and threshold.\n",
        "# Scope\n",
        "This project can be used in different organizations where customers or users need to provide any kind of id in order to get themselves verified. The organization can use this project to find out whether the ID is original or fake. Similarly this can be used for any type of ID like adhar, voter id, etc."
      ],
      "metadata": {
        "id": "d9OXUN85kWQ9"
      }
    }
  ]
}